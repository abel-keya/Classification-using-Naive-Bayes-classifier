{
 "cells": [
  {
   "cell_type": "code",
   "execution_count": 31,
   "metadata": {},
   "outputs": [],
   "source": [
    "#Libraries of Interest\n",
    "\n",
    "import numpy as np\n",
    "import pandas as pd\n",
    "from sklearn.metrics import accuracy_score\n",
    "from sklearn.model_selection import train_test_split\n",
    "from sklearn.preprocessing import scale"
   ]
  },
  {
   "cell_type": "code",
   "execution_count": 49,
   "metadata": {},
   "outputs": [],
   "source": [
    "#function to convert labels\n",
    "def label_convert(s):\n",
    "    s=s.strip().lower()\n",
    "    if s=='iris-setosa': return 0\n",
    "    elif s=='iris-versicolor': return 1\n",
    "    elif s== 'iris-virginica': return 2\n",
    "    else:  return X\n",
    "    "
   ]
  },
  {
   "cell_type": "code",
   "execution_count": 50,
   "metadata": {},
   "outputs": [],
   "source": [
    "#importing data using pandas\n",
    "dataset=pd.read_csv(\"/Users/kaku/Downloads/AIML/git/Datasets/Iris/bezdekIris.data\",header=None,converters={4:label_convert})"
   ]
  },
  {
   "cell_type": "code",
   "execution_count": 51,
   "metadata": {},
   "outputs": [
    {
     "data": {
      "text/plain": [
       "(150, 5)"
      ]
     },
     "execution_count": 51,
     "metadata": {},
     "output_type": "execute_result"
    }
   ],
   "source": [
    "#dataset.describe()\n",
    "dataset.shape"
   ]
  },
  {
   "cell_type": "code",
   "execution_count": 53,
   "metadata": {},
   "outputs": [
    {
     "name": "stdout",
     "output_type": "stream",
     "text": [
      "Class: [0.0, 1.0, 2.0] Count: [50 50 50]\n"
     ]
    }
   ],
   "source": [
    "#separating labels\n",
    "x=dataset.values[:,:4]\n",
    "y=dataset.values[:,-1]\n",
    "classes,counts = np.unique(y, return_counts=True)\n",
    "print('Class:',list(classes),'Count:',counts)"
   ]
  },
  {
   "cell_type": "code",
   "execution_count": 58,
   "metadata": {},
   "outputs": [
    {
     "data": {
      "text/plain": [
       "((60, 4), (60,))"
      ]
     },
     "execution_count": 58,
     "metadata": {},
     "output_type": "execute_result"
    }
   ],
   "source": [
    "x_train,x_test,y_train,y_test=train_test_split(x,y,test_size=0.4,random_state=100)\n",
    "x_test.shape,y_test.shape\n",
    "#print(x_train[0])\n"
   ]
  },
  {
   "cell_type": "code",
   "execution_count": 59,
   "metadata": {},
   "outputs": [],
   "source": [
    "#standardisation\n",
    "x_train=scale(x_train)\n",
    "x_test=scale(x_test)\n",
    "#x_train[0]"
   ]
  },
  {
   "cell_type": "code",
   "execution_count": 60,
   "metadata": {},
   "outputs": [
    {
     "name": "stdout",
     "output_type": "stream",
     "text": [
      "Class: [0.0, 1.0, 2.0] Count: [28 35 27]\n",
      "90\n"
     ]
    }
   ],
   "source": [
    "#Finding Prior Probability\n",
    "classes_train,counts_train = np.unique(y_train, return_counts=True)\n",
    "print('Class:',list(classes_train),'Count:',counts_train)\n",
    "total_samples=len(y_train)\n",
    "print(total_samples)\n",
    "prior = np.array([ x*1.0/total_samples for x in counts_train ])"
   ]
  },
  {
   "cell_type": "code",
   "execution_count": 61,
   "metadata": {},
   "outputs": [
    {
     "name": "stdout",
     "output_type": "stream",
     "text": [
      "(3,)\n",
      "0.3\n"
     ]
    }
   ],
   "source": [
    "print(prior.shape)\n",
    "print(prior[2])"
   ]
  },
  {
   "cell_type": "code",
   "execution_count": 62,
   "metadata": {},
   "outputs": [],
   "source": [
    "#Finding Posterior Probability distribution(likelihood not posterior probability) assuming gaussian distribution for all.\n",
    "mean={}\n",
    "std={}\n",
    "for i in classes:\n",
    "    mean[i]=list(np.mean(x_train[y_train==i],axis=0))\n",
    "    std[i]=list(np.std(x_train[y_train==i],axis=0))\n",
    "def gaussian_distribution(x, mean, std):\n",
    "    g = np.sqrt(1.0/2*np.pi*std*std)*np.exp( -1.0*(((x - mean)/std)**2) )\n",
    "    return g    "
   ]
  },
  {
   "cell_type": "code",
   "execution_count": 63,
   "metadata": {},
   "outputs": [],
   "source": [
    "#mean,std"
   ]
  },
  {
   "cell_type": "code",
   "execution_count": 64,
   "metadata": {},
   "outputs": [],
   "source": [
    "def likelihood(sample,mean,std):\n",
    "    feature_prob=np.zeros((len(sample),1))\n",
    "    #print('featureshape',feature_prob.shape)\n",
    "    for i in range(len(sample)):\n",
    "        feature_prob[i]=gaussian_distribution(sample[i],mean[i],std[i])\n",
    "    return np.prod(feature_prob)\n",
    "    "
   ]
  },
  {
   "cell_type": "code",
   "execution_count": 65,
   "metadata": {},
   "outputs": [],
   "source": [
    "y_pred=[]\n",
    "for i in x_test:\n",
    "    #i=i.T\n",
    "    #print(i.shape)\n",
    "    #print(len(i))\n",
    "    class_likelihood=np.zeros((len(classes)))\n",
    "    for cls in classes:\n",
    "        class_likelihood[int(cls)]=likelihood(i,mean[cls],std[cls])\n",
    "    posterior=np.multiply(class_likelihood,prior)\n",
    "    max_index=posterior.argmax()\n",
    "    y_pred.append(max_index)\n"
   ]
  },
  {
   "cell_type": "code",
   "execution_count": 66,
   "metadata": {},
   "outputs": [
    {
     "data": {
      "text/plain": [
       "0.96666666666666667"
      ]
     },
     "execution_count": 66,
     "metadata": {},
     "output_type": "execute_result"
    }
   ],
   "source": [
    "accuracy=accuracy_score(y_test,y_pred)\n",
    "accuracy"
   ]
  },
  {
   "cell_type": "code",
   "execution_count": 46,
   "metadata": {},
   "outputs": [
    {
     "data": {
      "text/plain": [
       "array([[ 2.,  2.],\n",
       "       [ 0.,  0.],\n",
       "       [ 2.,  2.],\n",
       "       [ 0.,  0.],\n",
       "       [ 2.,  2.],\n",
       "       [ 2.,  2.],\n",
       "       [ 0.,  0.],\n",
       "       [ 0.,  0.],\n",
       "       [ 2.,  2.],\n",
       "       [ 0.,  0.],\n",
       "       [ 0.,  0.],\n",
       "       [ 2.,  2.],\n",
       "       [ 0.,  0.],\n",
       "       [ 0.,  0.],\n",
       "       [ 2.,  2.],\n",
       "       [ 1.,  1.],\n",
       "       [ 1.,  1.],\n",
       "       [ 1.,  2.],\n",
       "       [ 2.,  2.],\n",
       "       [ 2.,  2.],\n",
       "       [ 2.,  2.],\n",
       "       [ 0.,  0.],\n",
       "       [ 2.,  2.],\n",
       "       [ 0.,  0.],\n",
       "       [ 1.,  1.],\n",
       "       [ 2.,  2.],\n",
       "       [ 1.,  1.],\n",
       "       [ 0.,  0.],\n",
       "       [ 1.,  1.],\n",
       "       [ 2.,  2.],\n",
       "       [ 1.,  1.],\n",
       "       [ 1.,  1.],\n",
       "       [ 2.,  1.],\n",
       "       [ 0.,  0.],\n",
       "       [ 0.,  0.],\n",
       "       [ 1.,  1.],\n",
       "       [ 0.,  0.],\n",
       "       [ 1.,  1.],\n",
       "       [ 2.,  2.],\n",
       "       [ 2.,  2.],\n",
       "       [ 0.,  0.],\n",
       "       [ 1.,  1.],\n",
       "       [ 2.,  2.],\n",
       "       [ 2.,  2.],\n",
       "       [ 0.,  0.]])"
      ]
     },
     "execution_count": 46,
     "metadata": {},
     "output_type": "execute_result"
    }
   ],
   "source": [
    "np.column_stack((y_test,y_pred))"
   ]
  },
  {
   "cell_type": "code",
   "execution_count": null,
   "metadata": {},
   "outputs": [],
   "source": []
  }
 ],
 "metadata": {
  "kernelspec": {
   "display_name": "Python 3",
   "language": "python",
   "name": "python3"
  },
  "language_info": {
   "codemirror_mode": {
    "name": "ipython",
    "version": 3
   },
   "file_extension": ".py",
   "mimetype": "text/x-python",
   "name": "python",
   "nbconvert_exporter": "python",
   "pygments_lexer": "ipython3",
   "version": "3.6.3"
  }
 },
 "nbformat": 4,
 "nbformat_minor": 2
}
